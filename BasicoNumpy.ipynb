{
  "nbformat": 4,
  "nbformat_minor": 0,
  "metadata": {
    "colab": {
      "name": "BasicoNumpy.ipynb",
      "provenance": [],
      "collapsed_sections": []
    },
    "kernelspec": {
      "name": "python3",
      "display_name": "Python 3"
    }
  },
  "cells": [
    {
      "cell_type": "code",
      "metadata": {
        "id": "MwuL9V66JBDS"
      },
      "source": [
        "import tensorflow as tf\n",
        "import numpy as np"
      ],
      "execution_count": 53,
      "outputs": []
    },
    {
      "cell_type": "code",
      "metadata": {
        "id": "B1oPqXMrJDJ3",
        "outputId": "c7945817-6021-456f-bfcb-9007f4e433eb",
        "colab": {
          "base_uri": "https://localhost:8080/",
          "height": 34
        }
      },
      "source": [
        "#numpy para creacion de arrays\n",
        "numeros = [1,2,3,4]\n",
        "print(type(numeros))"
      ],
      "execution_count": 54,
      "outputs": [
        {
          "output_type": "stream",
          "text": [
            "<class 'list'>\n"
          ],
          "name": "stdout"
        }
      ]
    },
    {
      "cell_type": "code",
      "metadata": {
        "id": "23yX9xdPLRbA",
        "outputId": "3a58c68c-46c3-470b-a664-169173b84a24",
        "colab": {
          "base_uri": "https://localhost:8080/",
          "height": 34
        }
      },
      "source": [
        "#Para crear el arreglo\n",
        "array = np.array(numeros)\n",
        "print(type(array))"
      ],
      "execution_count": 55,
      "outputs": [
        {
          "output_type": "stream",
          "text": [
            "<class 'numpy.ndarray'>\n"
          ],
          "name": "stdout"
        }
      ]
    },
    {
      "cell_type": "code",
      "metadata": {
        "id": "op6oapKjLV2w",
        "outputId": "1c9420e5-2c0c-4977-9a06-6dc80996e5c9",
        "colab": {
          "base_uri": "https://localhost:8080/",
          "height": 34
        }
      },
      "source": [
        "array"
      ],
      "execution_count": 56,
      "outputs": [
        {
          "output_type": "execute_result",
          "data": {
            "text/plain": [
              "array([1, 2, 3, 4])"
            ]
          },
          "metadata": {
            "tags": []
          },
          "execution_count": 56
        }
      ]
    },
    {
      "cell_type": "code",
      "metadata": {
        "id": "L2S_dqQkLjVD",
        "outputId": "55ae60cf-f421-4782-89e5-47d98fd23fcf",
        "colab": {
          "base_uri": "https://localhost:8080/",
          "height": 34
        }
      },
      "source": [
        "#con numpy puedo crear numeros\n",
        "np.arange(0, 10)\n"
      ],
      "execution_count": 57,
      "outputs": [
        {
          "output_type": "execute_result",
          "data": {
            "text/plain": [
              "array([0, 1, 2, 3, 4, 5, 6, 7, 8, 9])"
            ]
          },
          "metadata": {
            "tags": []
          },
          "execution_count": 57
        }
      ]
    },
    {
      "cell_type": "code",
      "metadata": {
        "id": "iyg1_VomL-iA",
        "outputId": "ec1ca9d3-01cc-4772-96ee-88d41d2dd0ab",
        "colab": {
          "base_uri": "https://localhost:8080/",
          "height": 34
        }
      },
      "source": [
        "#Para crear rango de numeros\n",
        "np.arange(0, 20, 2)"
      ],
      "execution_count": 58,
      "outputs": [
        {
          "output_type": "execute_result",
          "data": {
            "text/plain": [
              "array([ 0,  2,  4,  6,  8, 10, 12, 14, 16, 18])"
            ]
          },
          "metadata": {
            "tags": []
          },
          "execution_count": 58
        }
      ]
    },
    {
      "cell_type": "code",
      "metadata": {
        "id": "F_Js7N5OMJY7"
      },
      "source": [
        "#array solo de 0\n",
        "np.zeros(5)"
      ],
      "execution_count": null,
      "outputs": []
    },
    {
      "cell_type": "code",
      "metadata": {
        "id": "0wM2MbrQMOQH"
      },
      "source": [
        "#array solo de dos\n",
        "np.ones(5)"
      ],
      "execution_count": null,
      "outputs": []
    },
    {
      "cell_type": "code",
      "metadata": {
        "id": "YYj4eHTkMQqp"
      },
      "source": [
        "#array de dimensiones 3 filas por 2 columnas\n",
        "np.ones((3,2))"
      ],
      "execution_count": null,
      "outputs": []
    },
    {
      "cell_type": "code",
      "metadata": {
        "id": "MjlJND5_Mjcc"
      },
      "source": [
        "#numeros aleatorios, linespace desde el 0 al 40, dame 10 numeros\n",
        "np.linspace(0, 40, 10)"
      ],
      "execution_count": null,
      "outputs": []
    },
    {
      "cell_type": "code",
      "metadata": {
        "id": "gxdZkQi5Mvus"
      },
      "source": [
        "#El tercer argumento es la cantidad de numeros que obtenemos dentro de ese rango\n",
        "np.random.randint(0,100, 10)"
      ],
      "execution_count": null,
      "outputs": []
    },
    {
      "cell_type": "code",
      "metadata": {
        "id": "OrHWiYIyM9__",
        "outputId": "a979eb6f-592c-4fbf-c202-9549df1f35b8",
        "colab": {
          "base_uri": "https://localhost:8080/",
          "height": 50
        }
      },
      "source": [
        "#a partir de un array podemos saber el maximo, minimo, mediana....\n",
        "array = np.random.randint(0,100, 10)\n",
        "print(array)\n",
        "array.max() \n"
      ],
      "execution_count": 35,
      "outputs": [
        {
          "output_type": "stream",
          "text": [
            "[72 30 13 35 37 29  3 97 33 83]\n"
          ],
          "name": "stdout"
        },
        {
          "output_type": "execute_result",
          "data": {
            "text/plain": [
              "97"
            ]
          },
          "metadata": {
            "tags": []
          },
          "execution_count": 35
        }
      ]
    },
    {
      "cell_type": "code",
      "metadata": {
        "id": "7IFrJqgMNdxK",
        "outputId": "9c56173b-acf3-4ad9-baa4-8ce53fed9f52",
        "colab": {
          "base_uri": "https://localhost:8080/",
          "height": 34
        }
      },
      "source": [
        "#en que lugar esta el maximo\n",
        "array.argmax()"
      ],
      "execution_count": 36,
      "outputs": [
        {
          "output_type": "execute_result",
          "data": {
            "text/plain": [
              "7"
            ]
          },
          "metadata": {
            "tags": []
          },
          "execution_count": 36
        }
      ]
    },
    {
      "cell_type": "code",
      "metadata": {
        "id": "mauSgmJhNizb"
      },
      "source": [
        "#Para calcular la mediana\n",
        "array.mean()"
      ],
      "execution_count": null,
      "outputs": []
    },
    {
      "cell_type": "code",
      "metadata": {
        "id": "R1ylUt1yOEmp",
        "outputId": "dd458b19-5eee-48a9-da2b-2382f111b753",
        "colab": {
          "base_uri": "https://localhost:8080/",
          "height": 118
        }
      },
      "source": [
        "#Para poner mas filas a un array, con reshape, podemos poner 5 filas con 2 columnas\n",
        "print(array)\n",
        "array.reshape(5,2)\n"
      ],
      "execution_count": 41,
      "outputs": [
        {
          "output_type": "stream",
          "text": [
            "[72 30 13 35 37 29  3 97 33 83]\n"
          ],
          "name": "stdout"
        },
        {
          "output_type": "execute_result",
          "data": {
            "text/plain": [
              "array([[72, 30],\n",
              "       [13, 35],\n",
              "       [37, 29],\n",
              "       [ 3, 97],\n",
              "       [33, 83]])"
            ]
          },
          "metadata": {
            "tags": []
          },
          "execution_count": 41
        }
      ]
    },
    {
      "cell_type": "code",
      "metadata": {
        "id": "q9SIbyXjOIzQ",
        "outputId": "03101a0f-efb3-41aa-8e37-0278a7e960c6",
        "colab": {
          "base_uri": "https://localhost:8080/",
          "height": 101
        }
      },
      "source": [
        "#Filtrar elementos de un array\n",
        "array = array.reshape(5,2)\n",
        "array\n"
      ],
      "execution_count": 48,
      "outputs": [
        {
          "output_type": "execute_result",
          "data": {
            "text/plain": [
              "array([[72, 30],\n",
              "       [13, 35],\n",
              "       [37, 29],\n",
              "       [ 3, 97],\n",
              "       [33, 83]])"
            ]
          },
          "metadata": {
            "tags": []
          },
          "execution_count": 48
        }
      ]
    },
    {
      "cell_type": "code",
      "metadata": {
        "id": "z5E1U4CYOsrx",
        "outputId": "e68b6bac-35b9-480d-f662-cea094c9a2ec",
        "colab": {
          "base_uri": "https://localhost:8080/",
          "height": 34
        }
      },
      "source": [
        "filtro = array > 30\n",
        "array2 = array[filtro]\n",
        "array2"
      ],
      "execution_count": 52,
      "outputs": [
        {
          "output_type": "execute_result",
          "data": {
            "text/plain": [
              "array([72, 35, 37, 97, 33, 83])"
            ]
          },
          "metadata": {
            "tags": []
          },
          "execution_count": 52
        }
      ]
    },
    {
      "cell_type": "code",
      "metadata": {
        "id": "91yGXdScO6pM"
      },
      "source": [
        ""
      ],
      "execution_count": null,
      "outputs": []
    }
  ]
}